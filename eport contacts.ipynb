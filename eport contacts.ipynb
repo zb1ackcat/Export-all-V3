{
 "cells": [
  {
   "cell_type": "code",
   "execution_count": 175,
   "metadata": {},
   "outputs": [],
   "source": [
    "import urllib.parse\n",
    "import requests\n",
    "import json\n",
    "import csv\n",
    "import time"
   ]
  },
  {
   "cell_type": "code",
   "execution_count": 176,
   "metadata": {},
   "outputs": [],
   "source": [
    "offset = 0\n",
    "count = 0\n",
    "num_of_con = 0"
   ]
  },
  {
   "cell_type": "code",
   "execution_count": 177,
   "metadata": {},
   "outputs": [],
   "source": [
    "def get_tags(url):\n",
    "    response = requests.request(\"GET\", url + \"&api_key=\" + api_key)\n",
    "    x = json.loads(response.text)\n",
    "    con_val=[]\n",
    "    tag_str=''\n",
    "    for fields in x['contactTags']:\n",
    "        con_val.append(fields['tag'])\n",
    "    #tag_str += tag_dict[k] for k in con_val if k in tag_dict\n",
    "    for tag in con_val:\n",
    "        if tag in tag_dict:\n",
    "            tag_str += tag_dict[tag] + \",\"\n",
    "    return tag_str"
   ]
  },
  {
   "cell_type": "code",
   "execution_count": 178,
   "metadata": {},
   "outputs": [],
   "source": [
    "def get_field_values(url):\n",
    "    time.sleep(.2)\n",
    "    response = requests.request(\"GET\", url + \"&api_key=\" + api_key)\n",
    "    x = json.loads(response.text)\n",
    "    con_val={}\n",
    "    for fields in x['fieldValues']:\n",
    "        con_val.update({fields['field']:fields['value']})\n",
    "    return con_val"
   ]
  },
  {
   "cell_type": "code",
   "execution_count": 179,
   "metadata": {},
   "outputs": [],
   "source": [
    "def make_header():\n",
    "    d = {'ID':'', 'Email':'', 'First Name':'', 'Last Name':'', 'Phone':'', 'Creation Date':'','Orginization Name': ''}\n",
    "    url = f\"https://{account}.api-us1.com/api/3/fields/?api_key={api_key}\"\n",
    "    response = requests.request(\"GET\", url)\n",
    "    #print(response1)\n",
    "    parsed = json.loads(response.text)\n",
    "    fields = parsed['fields']\n",
    "    for x in fields:\n",
    "        d.update({x['title'] : ''})\n",
    "    d.update({'Tags':[]})\n",
    "    return d"
   ]
  },
  {
   "cell_type": "code",
   "execution_count": 194,
   "metadata": {},
   "outputs": [],
   "source": [
    "def export_all_contacts():\n",
    "    global count\n",
    "    offset = count\n",
    "    url = f\"https://{account}.api-us1.com/api/3/contacts/?api_key={api_key}&offset={offset}&limit=100\"\n",
    "    time.sleep(.2)\n",
    "    response = requests.request(\"GET\", url)\n",
    "    parsed = json.loads(response.text)\n",
    "    contact_data = parsed['contacts']\n",
    "    with open('/tmp/export.csv','a') as data:\n",
    "        for contact in contact_data:\n",
    "            contact_row = blank_dict\n",
    "            csvwriter = csv.writer(data)\n",
    "            if count == 0:\n",
    "                x = make_header()\n",
    "                header = x.keys()\n",
    "                csvwriter.writerow(header)\n",
    "            contact_row.update((k, v) for k, v in contact.items() if k in contact_row)\n",
    "            #contact_row.update(contact)\n",
    "            y = get_field_values(contact['links']['fieldValues'])\n",
    "            contact_row.update(y)\n",
    "            z = get_tags(contact['links']['contactTags'])\n",
    "            contact_row.update({'tags':z})\n",
    "            csvwriter.writerow(contact_row.values())\n",
    "            count += 1\n",
    "        wait_a_moment()"
   ]
  },
  {
   "cell_type": "code",
   "execution_count": 196,
   "metadata": {},
   "outputs": [],
   "source": [
    "def wait_a_moment():\n",
    "    offset = count\n",
    "    print(f\"Currently on {offset} out of {num_of_con} contacts\")\n",
    "    if offset < num_of_con: \n",
    "        export_all_contacts()\n",
    "    else:\n",
    "        end = time.time()\n",
    "        total = (end - start)/60 \n",
    "        print(f\"Finish in {total} minutes\")"
   ]
  },
  {
   "cell_type": "code",
   "execution_count": 182,
   "metadata": {},
   "outputs": [],
   "source": [
    "def get_number_of_con():\n",
    "    url = f\"https://{account}.api-us1.com/api/3/contacts/?api_key={api_key}\"\n",
    "    response = requests.request(\"GET\", url + \"&api_key=\" + api_key)\n",
    "    x = json.loads(response.text)\n",
    "    return int(x['meta']['total'])"
   ]
  },
  {
   "cell_type": "code",
   "execution_count": 183,
   "metadata": {},
   "outputs": [],
   "source": [
    "def make_dict():\n",
    "    d = {'id':'', 'email':'', 'firstName':'', 'lastName':'', 'phone':'', 'cdate':'','orgname': ''}\n",
    "    url = f\"https://{account}.api-us1.com/api/3/fields/?api_key={api_key}\"\n",
    "    response = requests.request(\"GET\", url)\n",
    "    #print(response1)\n",
    "    parsed = json.loads(response.text)\n",
    "    fields = parsed['fields']\n",
    "    for x in fields:\n",
    "        d.update({x['id'] : ''})\n",
    "    d.update({'tags':''})\n",
    "    return d"
   ]
  },
  {
   "cell_type": "code",
   "execution_count": 184,
   "metadata": {},
   "outputs": [],
   "source": [
    "def make_tag_dict():\n",
    "    url = f\"https://{account}.api-us1.com/api/3/tags?api_key={api_key}\"\n",
    "    response = requests.request(\"GET\", url)\n",
    "    #print(response1)\n",
    "    parsed = json.loads(response.text)\n",
    "    tags = parsed['tags']\n",
    "    d= {}\n",
    "    for x in tags:\n",
    "#MAYBE  int()\n",
    "        d.update({x['id']:x['tag']})\n",
    "    return d\n",
    "    "
   ]
  },
  {
   "cell_type": "code",
   "execution_count": 191,
   "metadata": {},
   "outputs": [],
   "source": [
    "def start_contacts():\n",
    "    global count\n",
    "    global blank_dict\n",
    "    global tag_dict\n",
    "    global num_of_con\n",
    "    global start\n",
    "    start = time.time()\n",
    "    tag_dict = make_tag_dict()\n",
    "    blank_dict = make_dict()\n",
    "    num_of_con = get_number_of_con()\n",
    "    count= 0\n",
    "    x = num_of_con * .015\n",
    "    print(f'This will take about {x} minutes to complete')\n",
    "    wait_a_moment()"
   ]
  },
  {
   "cell_type": "code",
   "execution_count": 192,
   "metadata": {},
   "outputs": [
    {
     "name": "stdout",
     "output_type": "stream",
     "text": [
      "This script will export your contacts to a tmp/export.csv. To see this on a mac you will need to go to your hard drive and press CMD + Shift + \".\" to show hidden files. This takes aboout a minutes and a half per 100 contacts.\n",
      "What is the account? (The SOMETHNING ins SOMETHING.activehosted.com)\n",
      "What is the API Key?\n"
     ]
    }
   ],
   "source": [
    "print('This script will export your contacts to a tmp/export.csv. To see this on a mac you will need to go to your hard drive and press CMD + Shift + \".\" to show hidden files. This takes aboout a minutes and a half per 100 contacts.')\n",
    "x = input(\"What is the account? (The SOMETHNING ins SOMETHING.activehosted.com)\")\n",
    "account = x or \"foundlingstheatrecompany\"\n",
    "x = input(\"What is the API Key?\")\n",
    "api_key= x or 'f348c3d5aa7af9fb8fb463a3f70179377ea36aa8b46d618e8f0ec65b236adac0014be746'"
   ]
  },
  {
   "cell_type": "code",
   "execution_count": 193,
   "metadata": {},
   "outputs": [
    {
     "name": "stdout",
     "output_type": "stream",
     "text": [
      "This will take about 1.41 minutes to complete\n",
      "Currently on 0 out of 94\n",
      "Currently on 94 out of 94\n",
      "Finish in 1.3905240654945374 minutes\n"
     ]
    }
   ],
   "source": [
    "start_contacts()"
   ]
  },
  {
   "cell_type": "code",
   "execution_count": null,
   "metadata": {},
   "outputs": [],
   "source": []
  },
  {
   "cell_type": "code",
   "execution_count": null,
   "metadata": {},
   "outputs": [],
   "source": []
  }
 ],
 "metadata": {
  "kernelspec": {
   "display_name": "Python 3",
   "language": "python",
   "name": "python3"
  },
  "language_info": {
   "codemirror_mode": {
    "name": "ipython",
    "version": 3
   },
   "file_extension": ".py",
   "mimetype": "text/x-python",
   "name": "python",
   "nbconvert_exporter": "python",
   "pygments_lexer": "ipython3",
   "version": "3.7.3"
  }
 },
 "nbformat": 4,
 "nbformat_minor": 2
}
